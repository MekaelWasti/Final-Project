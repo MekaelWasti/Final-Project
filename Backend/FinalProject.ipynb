{
 "cells": [
  {
   "cell_type": "markdown",
   "metadata": {},
   "source": [
    "# Import Libraries"
   ]
  },
  {
   "cell_type": "code",
   "execution_count": 1,
   "metadata": {},
   "outputs": [],
   "source": [
    "import torch\n",
    "import torch.nn as nn\n",
    "import torch.optim as optim\n",
    "import numpy as np\n",
    "import matplotlib.pyplot as plt\n",
    "from torchvision import transforms, datasets\n",
    "from torch.utils.data import DataLoader\n",
    "import pandas as pd\n",
    "from PIL import Image\n",
    "import os"
   ]
  },
  {
   "cell_type": "markdown",
   "metadata": {},
   "source": [
    "Load ResNet & VGG Models"
   ]
  },
  {
   "cell_type": "code",
   "execution_count": 2,
   "metadata": {},
   "outputs": [
    {
     "name": "stderr",
     "output_type": "stream",
     "text": [
      "C:\\Users\\mekae\\AppData\\Local\\Packages\\PythonSoftwareFoundation.Python.3.10_qbz5n2kfra8p0\\LocalCache\\local-packages\\Python310\\site-packages\\torchvision\\models\\_utils.py:208: UserWarning: The parameter 'pretrained' is deprecated since 0.13 and may be removed in the future, please use 'weights' instead.\n",
      "  warnings.warn(\n",
      "C:\\Users\\mekae\\AppData\\Local\\Packages\\PythonSoftwareFoundation.Python.3.10_qbz5n2kfra8p0\\LocalCache\\local-packages\\Python310\\site-packages\\torchvision\\models\\_utils.py:223: UserWarning: Arguments other than a weight enum or `None` for 'weights' are deprecated since 0.13 and may be removed in the future. The current behavior is equivalent to passing `weights=ResNet50_Weights.IMAGENET1K_V1`. You can also use `weights=ResNet50_Weights.DEFAULT` to get the most up-to-date weights.\n",
      "  warnings.warn(msg)\n"
     ]
    }
   ],
   "source": [
    "import torchvision.models as models\n",
    "\n",
    "# Load ResNet\n",
    "resnet50 = models.resnet50(pretrained=True)"
   ]
  },
  {
   "cell_type": "markdown",
   "metadata": {},
   "source": [
    "Format & Preprocess Data"
   ]
  },
  {
   "cell_type": "code",
   "execution_count": 3,
   "metadata": {},
   "outputs": [],
   "source": [
    "df = pd.read_csv(\"./AffectNet Dataset/labels.csv\")"
   ]
  },
  {
   "cell_type": "code",
   "execution_count": 4,
   "metadata": {},
   "outputs": [
    {
     "data": {
      "text/html": [
       "<div>\n",
       "<style scoped>\n",
       "    .dataframe tbody tr th:only-of-type {\n",
       "        vertical-align: middle;\n",
       "    }\n",
       "\n",
       "    .dataframe tbody tr th {\n",
       "        vertical-align: top;\n",
       "    }\n",
       "\n",
       "    .dataframe thead th {\n",
       "        text-align: right;\n",
       "    }\n",
       "</style>\n",
       "<table border=\"1\" class=\"dataframe\">\n",
       "  <thead>\n",
       "    <tr style=\"text-align: right;\">\n",
       "      <th></th>\n",
       "      <th>Unnamed: 0</th>\n",
       "      <th>pth</th>\n",
       "      <th>label</th>\n",
       "      <th>relFCs</th>\n",
       "    </tr>\n",
       "  </thead>\n",
       "  <tbody>\n",
       "    <tr>\n",
       "      <th>0</th>\n",
       "      <td>0</td>\n",
       "      <td>anger/image0000006.jpg</td>\n",
       "      <td>surprise</td>\n",
       "      <td>0.873142</td>\n",
       "    </tr>\n",
       "    <tr>\n",
       "      <th>1</th>\n",
       "      <td>1</td>\n",
       "      <td>anger/image0000060.jpg</td>\n",
       "      <td>anger</td>\n",
       "      <td>0.852311</td>\n",
       "    </tr>\n",
       "    <tr>\n",
       "      <th>2</th>\n",
       "      <td>2</td>\n",
       "      <td>anger/image0000061.jpg</td>\n",
       "      <td>anger</td>\n",
       "      <td>0.800957</td>\n",
       "    </tr>\n",
       "    <tr>\n",
       "      <th>3</th>\n",
       "      <td>3</td>\n",
       "      <td>anger/image0000066.jpg</td>\n",
       "      <td>disgust</td>\n",
       "      <td>0.843079</td>\n",
       "    </tr>\n",
       "    <tr>\n",
       "      <th>4</th>\n",
       "      <td>4</td>\n",
       "      <td>anger/image0000106.jpg</td>\n",
       "      <td>anger</td>\n",
       "      <td>0.849108</td>\n",
       "    </tr>\n",
       "    <tr>\n",
       "      <th>...</th>\n",
       "      <td>...</td>\n",
       "      <td>...</td>\n",
       "      <td>...</td>\n",
       "      <td>...</td>\n",
       "    </tr>\n",
       "    <tr>\n",
       "      <th>28170</th>\n",
       "      <td>28170</td>\n",
       "      <td>surprise/image0034960.jpg</td>\n",
       "      <td>surprise</td>\n",
       "      <td>0.825263</td>\n",
       "    </tr>\n",
       "    <tr>\n",
       "      <th>28171</th>\n",
       "      <td>28171</td>\n",
       "      <td>surprise/image0034961.jpg</td>\n",
       "      <td>surprise</td>\n",
       "      <td>0.738646</td>\n",
       "    </tr>\n",
       "    <tr>\n",
       "      <th>28172</th>\n",
       "      <td>28172</td>\n",
       "      <td>surprise/image0034966.jpg</td>\n",
       "      <td>surprise</td>\n",
       "      <td>0.774524</td>\n",
       "    </tr>\n",
       "    <tr>\n",
       "      <th>28173</th>\n",
       "      <td>28173</td>\n",
       "      <td>surprise/image0034973.jpg</td>\n",
       "      <td>neutral</td>\n",
       "      <td>0.766952</td>\n",
       "    </tr>\n",
       "    <tr>\n",
       "      <th>28174</th>\n",
       "      <td>28174</td>\n",
       "      <td>surprise/image0042075.jpg</td>\n",
       "      <td>disgust</td>\n",
       "      <td>0.832160</td>\n",
       "    </tr>\n",
       "  </tbody>\n",
       "</table>\n",
       "<p>28175 rows × 4 columns</p>\n",
       "</div>"
      ],
      "text/plain": [
       "       Unnamed: 0                        pth     label    relFCs\n",
       "0               0     anger/image0000006.jpg  surprise  0.873142\n",
       "1               1     anger/image0000060.jpg     anger  0.852311\n",
       "2               2     anger/image0000061.jpg     anger  0.800957\n",
       "3               3     anger/image0000066.jpg   disgust  0.843079\n",
       "4               4     anger/image0000106.jpg     anger  0.849108\n",
       "...           ...                        ...       ...       ...\n",
       "28170       28170  surprise/image0034960.jpg  surprise  0.825263\n",
       "28171       28171  surprise/image0034961.jpg  surprise  0.738646\n",
       "28172       28172  surprise/image0034966.jpg  surprise  0.774524\n",
       "28173       28173  surprise/image0034973.jpg   neutral  0.766952\n",
       "28174       28174  surprise/image0042075.jpg   disgust  0.832160\n",
       "\n",
       "[28175 rows x 4 columns]"
      ]
     },
     "execution_count": 4,
     "metadata": {},
     "output_type": "execute_result"
    }
   ],
   "source": [
    "df"
   ]
  },
  {
   "cell_type": "code",
   "execution_count": 5,
   "metadata": {},
   "outputs": [],
   "source": [
    "def getFileExtension(sentiment):\n",
    "    if sentiment in jpgList:\n",
    "        return \"jpg\"\n",
    "    if sentiment in pngList:\n",
    "        return \"png\"\n",
    "\n",
    "jpgList = ['anger','fear','sad']\n",
    "pngList = ['contempt','disgust','happy','neutral','surprise']\n",
    "\n",
    "imageRootPath = \"./AffectNet Dataset/\"\n",
    "imageFilePath = \"happy/ffhq_34.png\"\n",
    "imagePath = imageRootPath + imageFilePath\n",
    "\n",
    "image = Image.open(imagePath).convert(\"RGB\")\n",
    "image\n",
    "\n",
    "transform = transforms.Compose([\n",
    "    transforms.Resize((256)),\n",
    "    transforms.CenterCrop((224)),\n",
    "    transforms.ToTensor(),\n",
    "    transforms.Normalize(\n",
    "        mean=[0.485, 0.456, 0.406],\n",
    "        std=[0.229, 0.224, 0.225]\n",
    "    ),\n",
    "])\n",
    "\n",
    "imageTensor = transform(image)\n",
    "imageTensor = imageTensor.unsqueeze(0)"
   ]
  },
  {
   "cell_type": "code",
   "execution_count": 6,
   "metadata": {},
   "outputs": [
    {
     "data": {
      "text/plain": [
       "<matplotlib.image.AxesImage at 0x212497c5b40>"
      ]
     },
     "execution_count": 6,
     "metadata": {},
     "output_type": "execute_result"
    },
    {
     "data": {
      "image/png": "[encoded data removed]",
      "text/plain": [
       "<Figure size 640x480 with 1 Axes>"
      ]
     },
     "metadata": {},
     "output_type": "display_data"
    }
   ],
   "source": [
    "plt.imshow(image)"
   ]
  },
  {
   "cell_type": "markdown",
   "metadata": {},
   "source": [
    "# Dataset"
   ]
  },
  {
   "cell_type": "code",
   "execution_count": 7,
   "metadata": {},
   "outputs": [],
   "source": [
    "library = []"
   ]
  },
  {
   "cell_type": "code",
   "execution_count": 9,
   "metadata": {},
   "outputs": [],
   "source": [
    "count = 0\n",
    "n = 10\n",
    "\n",
    "for folder in os.listdir(imageRootPath):\n",
    "    if folder == \"labels.csv\":\n",
    "        continue\n",
    "    for image in os.listdir(imageRootPath + folder):\n",
    "        # if count == n:\n",
    "            # break\n",
    "        label = df[df['pth'] ==  folder + '/' + image]['label']\n",
    "        library.append((image,label))\n",
    "\n",
    "        count += 1\n",
    "\n",
    "# print(library[:5])\n",
    "# for ind, label in enumerate()"
   ]
  },
  {
   "cell_type": "code",
   "execution_count": null,
   "metadata": {},
   "outputs": [],
   "source": [
    "print(library)"
   ]
  },
  {
   "cell_type": "code",
   "execution_count": null,
   "metadata": {},
   "outputs": [],
   "source": [
    "from torch.utils.data import Dataset, DataLoader\n",
    "\n",
    "class FacialSentimentDataset(Dataset):\n",
    "    def __init__(self, path, transform):\n",
    "        # Library has entires in the form of tuples\n",
    "        # Each tuple has the image path at the 0th index\n",
    "        # and the label at the 1st\n",
    "        self.path = path\n",
    "        self.library = []\n",
    "        self.transform = transform\n",
    "\n",
    "        # Get each folder in the dataset\n",
    "        for folder in os.listdir(path):\n",
    "            # Skip labels file\n",
    "            if folder == \"labels.csv\":\n",
    "                continue\n",
    "            # Get each image in each folder\n",
    "            for image in os.listdir(path + folder):\n",
    "                # Get image's corresponding label\n",
    "                try:\n",
    "                    label = df[df['pth'] ==  folder + '/' + image]['label'].item()\n",
    "                    self.library.append((folder + '/' + image,label))\n",
    "                # Skip images that are not labeled\n",
    "                except ValueError as e:\n",
    "                    continue\n",
    "        \n",
    "    # Add get dataset's length function\n",
    "    def __len__(self):\n",
    "        return len(self.library)\n",
    "\n",
    "    # Add get item at index from dataset\n",
    "    def __getitem__(self,idx):\n",
    "        # Get image path from library at an index\n",
    "        imagePath = self.library[idx][0]\n",
    "        # Open image with PIL\n",
    "        image = Image.open(self.path + imagePath).convert(\"RGB\")\n",
    "        # Get label path from library at an index\n",
    "        label = self.library[idx][1]\n",
    "\n",
    "        # Apply given transform to each image\n",
    "        if self.transform:\n",
    "            image = self.transform(image)\n",
    "\n",
    "        return image,label\n",
    "\n",
    "\n",
    "dataset = FacialSentimentDataset(\"./AffectNet Dataset/\", transform)"
   ]
  },
  {
   "cell_type": "code",
   "execution_count": null,
   "metadata": {},
   "outputs": [],
   "source": [
    "for x in dataset:\n",
    "    print(x)"
   ]
  },
  {
   "cell_type": "code",
   "execution_count": null,
   "metadata": {},
   "outputs": [],
   "source": [
    "resnet50.eval();\n",
    "with torch.no_grad():\n",
    "    output = resnet50(imageTensor)"
   ]
  },
  {
   "cell_type": "code",
   "execution_count": null,
   "metadata": {},
   "outputs": [],
   "source": []
  },
  {
   "cell_type": "markdown",
   "metadata": {},
   "source": [
    "Train"
   ]
  },
  {
   "cell_type": "code",
   "execution_count": 59,
   "metadata": {},
   "outputs": [],
   "source": [
    "from pytorch_lightning import Trainer\n",
    "numEpochs = 15\n",
    "\n",
    "model = resNet()\n",
    "\n",
    "trainer = Trainer(numEpochs, gpus=0)"
   ]
  },
  {
   "cell_type": "code",
   "execution_count": null,
   "metadata": {},
   "outputs": [],
   "source": [
    "trainer.fit(model, trainDataloader, valDataloader)"
   ]
  }
 ],
 "metadata": {
  "kernelspec": {
   "display_name": "Python 3",
   "language": "python",
   "name": "python3"
  },
  "language_info": {
   "codemirror_mode": {
    "name": "ipython",
    "version": 3
   },
   "file_extension": ".py",
   "mimetype": "text/x-python",
   "name": "python",
   "nbconvert_exporter": "python",
   "pygments_lexer": "ipython3",
   "version": "3.10.11"
  }
 },
 "nbformat": 4,
 "nbformat_minor": 2
}
